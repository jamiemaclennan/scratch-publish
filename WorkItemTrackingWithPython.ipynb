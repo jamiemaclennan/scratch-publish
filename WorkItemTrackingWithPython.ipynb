{
 "cells": [
  {
   "cell_type": "markdown",
   "metadata": {},
   "source": [
    "# Work Item Tracking with Python\n",
    "This notebook provides examples of how to query Azure DevOps work items using the Azure DevOps python library.\n",
    "\n",
    "## Prerequisites\n",
    "Before executing this notebook, install the devops library using\n",
    "\n",
    "```\n",
    "pip install azure-devops\n",
    "```"
   ]
  },
  {
   "cell_type": "code",
   "execution_count": 311,
   "metadata": {},
   "outputs": [],
   "source": [
    "from azure.devops.connection import Connection\n",
    "from msrest.authentication import BasicAuthentication\n",
    "from azure.devops.v5_1.work_item_tracking.models import Wiql\n",
    "from azure.devops.v5_1.work_item_tracking.models import TeamContext"
   ]
  },
  {
   "cell_type": "markdown",
   "metadata": {},
   "source": [
    "## Connect to DevOps\n",
    "\n",
    "You need a personal access token from DevOps to access work items from your python program"
   ]
  },
  {
   "cell_type": "code",
   "execution_count": 312,
   "metadata": {},
   "outputs": [],
   "source": [
    "token = \"<token>\"\n",
    "team_instance = \"https://msdata.visualstudio.com\"\n",
    "\n",
    "credentials = BasicAuthentication(\"PAT\", token)\n",
    "connection = Connection(base_url=team_instance, creds=credentials)"
   ]
  },
  {
   "cell_type": "markdown",
   "metadata": {},
   "source": [
    "The WorkItemTrackingClient is the main object for accessing all information about the work items.  We are using the preview 5.1 client.  There are significant differences in API's between versions, so changing the version will mean that you will most likely need to rework the code."
   ]
  },
  {
   "cell_type": "code",
   "execution_count": 313,
   "metadata": {},
   "outputs": [],
   "source": [
    "# the client we need is not the default, so we get a specific client\n",
    "wit_client = connection.get_client('azure.devops.v5_1.work_item_tracking.work_item_tracking_client.WorkItemTrackingClient')"
   ]
  },
  {
   "cell_type": "markdown",
   "metadata": {},
   "source": [
    "## Query Work Items\n",
    "This query is a \"flat query\" in that is returns a standard non-hierarchical list.  Working with heirarchical lists is possible but requires experimentation to determine how to interpret the results.  If you want to create a hierarchical query, it is recommended to create the query using the DevOps user interface and copying the resulting WIQL.\n",
    "\n",
    "Note that the query *projection*, ie the list of columns, is essentially ignored.  The query result includes the list of ids filtered and orderd by the query, along with some other information about the query, but the actual fields are retrieved in later calls."
   ]
  },
  {
   "cell_type": "code",
   "execution_count": 315,
   "metadata": {},
   "outputs": [],
   "source": [
    "flatquery = \"\"\"\n",
    "SELECT\n",
    "        [System.Id],\n",
    "        [System.WorkItemType],\n",
    "        [System.Title],\n",
    "        [System.State],\n",
    "        [System.AreaPath],\n",
    "        [System.IterationPath]\n",
    "FROM workitems\n",
    "WHERE\n",
    "        [System.TeamProject] = @project\n",
    "        AND [System.ChangedDate] > @today - 7\n",
    "ORDER BY [System.ChangedDate] DESC\n",
    "\"\"\""
   ]
  },
  {
   "cell_type": "markdown",
   "metadata": {},
   "source": [
    "Executing the query by converting to wiql and executing against the client.  The project can be set via the Team Context or directly in the query.  DevOps returns a maximum of 20,000 workitem references."
   ]
  },
  {
   "cell_type": "code",
   "execution_count": 316,
   "metadata": {},
   "outputs": [],
   "source": [
    "query_wiql = Wiql(query=flatquery)\n",
    "query_result = results = wit_client.query_by_wiql(query_wiql, TeamContext(project=\"Vienna\"))\n",
    "work_item_references = query_result.work_items"
   ]
  },
  {
   "cell_type": "markdown",
   "metadata": {},
   "source": [
    "## Process the results\n",
    "\n",
    "Since the query only returns ids, we need to process the ids and fetch the actual work item data\n",
    "\n",
    "First, extract the ids from the references that are returned so that we can retrieve work items in batch"
   ]
  },
  {
   "cell_type": "code",
   "execution_count": 322,
   "metadata": {},
   "outputs": [],
   "source": [
    "ids=list(wir.id for wir in work_item_references)"
   ]
  },
  {
   "cell_type": "markdown",
   "metadata": {},
   "source": [
    "Each work item is retrieved with a default set of fields including Title, AreaPath, IterationPath, etc.  This can be overridded by using the `fields` option in the `get_work_items` call, and providing a string array listing the fields of interest.  In this case, however, we are using the `expand` option to retrieve the related work items.  Using both of these options is incompatible, so if you want to retrieve non-default fields and related work items, you will need to pull the work items twice.\n",
    "\n",
    "This code retrieves the workitems in batches.  The maximum batch size is 200.  "
   ]
  },
  {
   "cell_type": "code",
   "execution_count": 357,
   "metadata": {},
   "outputs": [
    {
     "name": "stdout",
     "output_type": "stream",
     "text": [
      "200\n",
      "400\n",
      "600\n",
      "800\n",
      "1000\n",
      "1200\n",
      "1400\n",
      "1600\n",
      "1800\n",
      "2000\n",
      "Read 1980 work items from 1980 ids\n"
     ]
    }
   ],
   "source": [
    "id_start = 0\n",
    "batch_size = 200\n",
    "work_items=[]\n",
    "while id_start < len(ids) :\n",
    "    work_items.extend(wit_client.get_work_items(ids[id_start:id_start+batch_size], expand=\"Relations\"))\n",
    "    id_start += batch_size\n",
    "    print (id_start)\n",
    "print (\"Read {} work items from {} ids\".format(len(work_items), len(ids)))"
   ]
  },
  {
   "cell_type": "markdown",
   "metadata": {},
   "source": [
    "## Understanding the results\n",
    "\n",
    "These are the fields that are returned by default "
   ]
  },
  {
   "cell_type": "code",
   "execution_count": 382,
   "metadata": {},
   "outputs": [
    {
     "name": "stdout",
     "output_type": "stream",
     "text": [
      "System.AreaPath\n",
      "System.TeamProject\n",
      "System.IterationPath\n",
      "System.WorkItemType\n",
      "System.State\n",
      "System.Reason\n",
      "System.AssignedTo\n",
      "System.CreatedDate\n",
      "System.CreatedBy\n",
      "System.ChangedDate\n",
      "System.ChangedBy\n",
      "System.CommentCount\n",
      "System.Title\n",
      "System.BoardColumn\n",
      "System.BoardColumnDone\n",
      "Microsoft.VSTS.Common.StateChangeDate\n",
      "Microsoft.VSTS.Common.ActivatedDate\n",
      "Microsoft.VSTS.Common.ActivatedBy\n",
      "Microsoft.VSTS.Common.Priority\n",
      "Microsoft.VSTS.Common.ValueArea\n",
      "WEF_1366634518964FB0850FD25BC19879F0_Kanban.Column\n",
      "WEF_1366634518964FB0850FD25BC19879F0_Kanban.Column.Done\n",
      "WEF_193A890692DB4476803F6DCBF5FF4B7C_Kanban.Column\n",
      "WEF_193A890692DB4476803F6DCBF5FF4B7C_Kanban.Column.Done\n",
      "WEF_5AA31F69748743F5B2FD63F7D3497E2A_Kanban.Column\n",
      "WEF_5AA31F69748743F5B2FD63F7D3497E2A_Kanban.Column.Done\n",
      "WEF_400060F5BD1849B0B5C727AB83F5B92C_Kanban.Column\n",
      "WEF_400060F5BD1849B0B5C727AB83F5B92C_Kanban.Column.Done\n",
      "System.Description\n"
     ]
    }
   ],
   "source": [
    "wi = work_items[0]\n",
    "for key in wi.fields.keys():\n",
    "    print(key)"
   ]
  },
  {
   "cell_type": "markdown",
   "metadata": {},
   "source": [
    "Assuming there are any related items, this cell will display the structure of the first relation (or throw if there are none)"
   ]
  },
  {
   "cell_type": "code",
   "execution_count": 377,
   "metadata": {},
   "outputs": [
    {
     "name": "stdout",
     "output_type": "stream",
     "text": [
      "{'attributes': {'isLocked': False, 'name': 'Child'}, 'rel': 'System.LinkTypes.Hierarchy-Forward', 'url': 'https://msdata.visualstudio.com/3adb301f-9ede-41f2-933b-fcd1a486ff7f/_apis/wit/workItems/443983'}\n"
     ]
    }
   ],
   "source": [
    "try:\n",
    "    print(wi.relations[0].as_dict())\n",
    "except:\n",
    "    print(\"no relations\")"
   ]
  },
  {
   "cell_type": "markdown",
   "metadata": {},
   "source": [
    "This cell will display the ID of the parent work item, if any"
   ]
  },
  {
   "cell_type": "code",
   "execution_count": 380,
   "metadata": {},
   "outputs": [
    {
     "name": "stdout",
     "output_type": "stream",
     "text": [
      "Parent 443972\n"
     ]
    }
   ],
   "source": [
    "try:\n",
    "    parent = next((relation for relation in wi.relations if relation.rel == 'System.LinkTypes.Hierarchy-Reverse'))\n",
    "    print( parent.attributes['name'], parent.url.rsplit('/', 1)[-1])\n",
    "except StopIteration:\n",
    "    print(\"no parent\")"
   ]
  },
  {
   "cell_type": "markdown",
   "metadata": {},
   "source": [
    "## Fetching comments\n",
    "Comments are not included in the work item records and need to be fetched individually.\n",
    "\n",
    "This cell will fetch and display the most recent comment, if any.  Note that the output is an HTML rendering of the text in the latest comment."
   ]
  },
  {
   "cell_type": "code",
   "execution_count": null,
   "metadata": {},
   "outputs": [],
   "source": [
    "try:\n",
    "    comment = wit_client.get_comments(project=\"Vienna\", work_item_id = wi.id , top=1, order=\"desc\").comments[0].text\n",
    "except:\n",
    "    comment = \"\"\n",
    "comment\n"
   ]
  },
  {
   "cell_type": "code",
   "execution_count": null,
   "metadata": {},
   "outputs": [],
   "source": []
  }
 ],
 "metadata": {
  "kernelspec": {
   "display_name": "Python 3.6 - AzureML",
   "language": "python",
   "name": "python3-azureml"
  },
  "language_info": {
   "codemirror_mode": {
    "name": "ipython",
    "version": 3
   },
   "file_extension": ".py",
   "mimetype": "text/x-python",
   "name": "python",
   "nbconvert_exporter": "python",
   "pygments_lexer": "ipython3",
   "version": "3.6.8"
  }
 },
 "nbformat": 4,
 "nbformat_minor": 2
}
